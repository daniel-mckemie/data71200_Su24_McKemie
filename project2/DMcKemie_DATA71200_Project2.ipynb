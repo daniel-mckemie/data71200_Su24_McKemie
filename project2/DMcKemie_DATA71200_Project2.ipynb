{
  "cells": [
    {
      "cell_type": "markdown",
      "metadata": {
        "id": "view-in-github",
        "colab_type": "text"
      },
      "source": [
        "<a href=\"https://colab.research.google.com/github/daniel-mckemie/data71200_Su24_McKemie/blob/main/DMcKemie_DATA71200_Project2.ipynb\" target=\"_parent\"><img src=\"https://colab.research.google.com/assets/colab-badge.svg\" alt=\"Open In Colab\"/></a>"
      ]
    },
    {
      "cell_type": "code",
      "execution_count": 1,
      "metadata": {
        "colab": {
          "base_uri": "https://localhost:8080/"
        },
        "id": "gwY9CfYiZui_",
        "outputId": "b6375735-1caa-4124-e607-bb9c159267a4"
      },
      "outputs": [
        {
          "output_type": "stream",
          "name": "stdout",
          "text": [
            "Collecting scikit-learn==1.4\n",
            "  Downloading scikit_learn-1.4.0-1-cp310-cp310-manylinux_2_17_x86_64.manylinux2014_x86_64.whl (12.1 MB)\n",
            "\u001b[2K     \u001b[90m━━━━━━━━━━━━━━━━━━━━━━━━━━━━━━━━━━━━━━━━\u001b[0m \u001b[32m12.1/12.1 MB\u001b[0m \u001b[31m17.7 MB/s\u001b[0m eta \u001b[36m0:00:00\u001b[0m\n",
            "\u001b[?25hRequirement already satisfied: numpy<2.0,>=1.19.5 in /usr/local/lib/python3.10/dist-packages (from scikit-learn==1.4) (1.25.2)\n",
            "Requirement already satisfied: scipy>=1.6.0 in /usr/local/lib/python3.10/dist-packages (from scikit-learn==1.4) (1.11.4)\n",
            "Requirement already satisfied: joblib>=1.2.0 in /usr/local/lib/python3.10/dist-packages (from scikit-learn==1.4) (1.4.2)\n",
            "Requirement already satisfied: threadpoolctl>=2.0.0 in /usr/local/lib/python3.10/dist-packages (from scikit-learn==1.4) (3.5.0)\n",
            "Installing collected packages: scikit-learn\n",
            "  Attempting uninstall: scikit-learn\n",
            "    Found existing installation: scikit-learn 1.2.2\n",
            "    Uninstalling scikit-learn-1.2.2:\n",
            "      Successfully uninstalled scikit-learn-1.2.2\n",
            "Successfully installed scikit-learn-1.4.0\n"
          ]
        }
      ],
      "source": [
        "import numpy as np\n",
        "import pandas as pd\n",
        "import matplotlib.pyplot as plt\n",
        "import seaborn as sns\n",
        "\n",
        "!pip install -U scikit-learn==1.4"
      ]
    },
    {
      "cell_type": "code",
      "source": [
        "# Ignore warnings\n",
        "import warnings\n",
        "warnings.filterwarnings('ignore')\n",
        "\n"
      ],
      "metadata": {
        "id": "7CMZUh216XFN"
      },
      "execution_count": 2,
      "outputs": []
    },
    {
      "cell_type": "code",
      "execution_count": 3,
      "metadata": {
        "id": "KdYOVBMFai3H"
      },
      "outputs": [],
      "source": [
        "import os\n",
        "\n",
        "GITHUB_REPO_URL = \"https://raw.githubusercontent.com/daniel-mckemie/data71200_Su24_McKemie/main/\"\n",
        "CSV_FILE_NAME = \"baseball.csv\"\n"
      ]
    },
    {
      "cell_type": "code",
      "execution_count": 4,
      "metadata": {
        "id": "3sWUqdISa9tv"
      },
      "outputs": [],
      "source": [
        "import pandas as pd\n",
        "import urllib.request\n",
        "\n",
        "def load_data_from_github(github_url=GITHUB_REPO_URL, csv_file=CSV_FILE_NAME):\n",
        "    csv_url = github_url + csv_file\n",
        "    try:\n",
        "        # Download the CSV file to a local temporary file\n",
        "        temp_file, _ = urllib.request.urlretrieve(csv_url)\n",
        "\n",
        "        # Read the CSV file into a pandas DataFrame\n",
        "        df = pd.read_csv(temp_file)\n",
        "\n",
        "        return df\n",
        "    except Exception as e:\n",
        "        print(f\"An error occurred: {e}\")\n",
        "        return None\n",
        "    finally:\n",
        "        # Remove the temporary file to clean up\n",
        "        if 'temp_file' in locals():\n",
        "            os.remove(temp_file)\n"
      ]
    },
    {
      "cell_type": "code",
      "execution_count": 5,
      "metadata": {
        "colab": {
          "base_uri": "https://localhost:8080/"
        },
        "id": "A_b1Te9jbdbz",
        "outputId": "46d5fe70-73f5-4334-f919-b69668903424"
      },
      "outputs": [
        {
          "output_type": "stream",
          "name": "stdout",
          "text": [
            "  Team League  Year   RS   RA   W    OBP    SLG     BA  Playoffs  RankSeason  \\\n",
            "0  ARI     NL  2012  734  688  81  0.328  0.418  0.259         0         NaN   \n",
            "1  ATL     NL  2012  700  600  94  0.320  0.389  0.247         1         4.0   \n",
            "2  BAL     AL  2012  712  705  93  0.311  0.417  0.247         1         5.0   \n",
            "3  BOS     AL  2012  734  806  69  0.315  0.415  0.260         0         NaN   \n",
            "4  CHC     NL  2012  613  759  61  0.302  0.378  0.240         0         NaN   \n",
            "\n",
            "   RankPlayoffs    G   OOBP   OSLG  \n",
            "0           NaN  162  0.317  0.415  \n",
            "1           5.0  162  0.306  0.378  \n",
            "2           4.0  162  0.315  0.403  \n",
            "3           NaN  162  0.331  0.428  \n",
            "4           NaN  162  0.335  0.424  \n"
          ]
        }
      ],
      "source": [
        "baseball_data = load_data_from_github()\n",
        "\n",
        "if baseball_data is not None:\n",
        "    print(baseball_data.head())"
      ]
    },
    {
      "cell_type": "code",
      "execution_count": 6,
      "metadata": {
        "id": "aIARKisB8PkX"
      },
      "outputs": [],
      "source": [
        "# Replace NaN values in RankSeason and RankPlayoffs with 0s\n",
        "baseball_data['RankSeason'].fillna(0, inplace=True)\n",
        "baseball_data['RankPlayoffs'].fillna(0, inplace=True)"
      ]
    },
    {
      "cell_type": "code",
      "execution_count": 7,
      "metadata": {
        "id": "yEP-B2e12nXJ"
      },
      "outputs": [],
      "source": [
        "# Drop the OOBP and OSLG columns\n",
        "baseball_data.drop(columns=['OOBP', 'OSLG'], inplace=True)"
      ]
    },
    {
      "cell_type": "code",
      "execution_count": 8,
      "metadata": {
        "id": "vUBruavj6lvX"
      },
      "outputs": [],
      "source": [
        "# Create a new column OPS which is OBP + SLG\n",
        "baseball_data['OPS'] = baseball_data['OBP'] + baseball_data['SLG']"
      ]
    },
    {
      "cell_type": "code",
      "execution_count": 57,
      "metadata": {
        "id": "7aUtDqibcJyc"
      },
      "outputs": [],
      "source": [
        "from sklearn.model_selection import train_test_split\n",
        "\n",
        "# Define features and target variable\n",
        "features = ['RS', 'RA', 'OBP', 'SLG', 'BA', 'OPS']\n",
        "X = baseball_data[features]\n",
        "y = baseball_data['Playoffs']\n",
        "\n",
        "# Split the data into training and testing sets\n",
        "X_train, X_test, y_train, y_test = train_test_split(X, y, test_size=0.2, random_state=42)\n"
      ]
    },
    {
      "cell_type": "code",
      "execution_count": 60,
      "metadata": {
        "id": "jmBRjhxZcddO"
      },
      "outputs": [],
      "source": [
        "from sklearn.metrics import mean_absolute_error, mean_squared_error, r2_score\n",
        "from sklearn.metrics import precision_score, recall_score, f1_score, make_scorer\n",
        "from sklearn.model_selection import cross_val_score, GridSearchCV\n",
        "\n",
        "\n",
        "# Define a function for evaluating models using classification metrics\n",
        "def evaluate_model(y_true, y_pred, model_name):\n",
        "    precision = precision_score(y_true, y_pred, average='macro')\n",
        "    recall = recall_score(y_true, y_pred, average='macro')\n",
        "    f1 = f1_score(y_true, y_pred, average='macro')\n",
        "    print(f\"{model_name} Evaluation:\")\n",
        "    print(f\"Precision: {precision:.2f}\")\n",
        "    print(f\"Recall: {recall:.2f}\")\n",
        "    print(f\"F1 Score: {f1:.2f}\")\n",
        "    return precision, recall, f1\n",
        "\n",
        "# Define a function to run cross-validation and return the average scores for classification metrics\n",
        "def cross_val_metrics(model, X, y):\n",
        "    precision_scorer = make_scorer(precision_score, average='macro')\n",
        "    recall_scorer = make_scorer(recall_score, average='macro')\n",
        "    f1_scorer = make_scorer(f1_score, average='macro')\n",
        "\n",
        "    precision_cv = cross_val_score(model, X, y, cv=5, scoring=precision_scorer).mean()\n",
        "    recall_cv = cross_val_score(model, X, y, cv=5, scoring=recall_scorer).mean()\n",
        "    f1_cv = cross_val_score(model, X, y, cv=5, scoring=f1_scorer).mean()\n",
        "\n",
        "    print(f\"Cross-Validation Metrics for {model.__class__.__name__}:\")\n",
        "    print(f\"Precision (CV): {precision_cv:.2f}\")\n",
        "    print(f\"Recall (CV): {recall_cv:.2f}\")\n",
        "    print(f\"F1 Score (CV): {f1_cv:.2f}\")\n",
        "\n",
        "    return precision_cv, recall_cv, f1_cv"
      ]
    },
    {
      "cell_type": "code",
      "execution_count": 64,
      "metadata": {
        "colab": {
          "base_uri": "https://localhost:8080/"
        },
        "id": "SnxTqdurB8XB",
        "outputId": "8ddc8ecf-1638-4bfe-d91d-52bfd7538752"
      },
      "outputs": [
        {
          "output_type": "stream",
          "name": "stdout",
          "text": [
            "Logistic Regression Evaluation:\n",
            "Precision: 0.81\n",
            "Recall: 0.77\n",
            "F1 Score: 0.79\n"
          ]
        }
      ],
      "source": [
        "from sklearn.linear_model import LogisticRegression\n",
        "\n",
        "\n",
        "# Logistic Regression\n",
        "lr = LogisticRegression(max_iter=1000)\n",
        "lr.fit(X_train, y_train)\n",
        "y_pred_lr = lr.predict(X_test)\n",
        "\n",
        "precision_lr, recall_lr, f1_lr = evaluate_model(y_test, y_pred_lr, \"Logistic Regression\")\n"
      ]
    },
    {
      "cell_type": "code",
      "source": [
        "precision_lr_cv, recall_lr_cv, f1_lr_cv = cross_val_metrics(lr, X, y)"
      ],
      "metadata": {
        "colab": {
          "base_uri": "https://localhost:8080/"
        },
        "id": "OkyqwgmIHpfz",
        "outputId": "0148e5eb-a99a-4327-f33c-1112cfb47b4f"
      },
      "execution_count": 66,
      "outputs": [
        {
          "output_type": "stream",
          "name": "stdout",
          "text": [
            "Cross-Validation Metrics for LogisticRegression:\n",
            "Precision (CV): 0.83\n",
            "Recall (CV): 0.78\n",
            "F1 Score (CV): 0.80\n"
          ]
        }
      ]
    },
    {
      "cell_type": "code",
      "execution_count": 69,
      "metadata": {
        "colab": {
          "base_uri": "https://localhost:8080/"
        },
        "id": "ypuSNnLHAIXj",
        "outputId": "bc7aed11-26ff-4062-b318-31b53092e2c0"
      },
      "outputs": [
        {
          "output_type": "stream",
          "name": "stdout",
          "text": [
            "Random Forest Classifier Evaluation:\n",
            "Precision: 0.79\n",
            "Recall: 0.73\n",
            "F1 Score: 0.76\n",
            "Cross-Validation Metrics for RandomForestClassifier:\n",
            "Precision (CV): 0.78\n",
            "Recall (CV): 0.74\n",
            "F1 Score (CV): 0.76\n"
          ]
        }
      ],
      "source": [
        "from sklearn.ensemble import RandomForestClassifier\n",
        "\n",
        "# Random Forest Classifier\n",
        "rf = RandomForestClassifier(n_estimators=100, random_state=42)\n",
        "rf.fit(X_train, y_train)\n",
        "y_pred_rf = rf.predict(X_test)\n",
        "\n",
        "precision_rf, recall_rf, f1_rf = evaluate_model(y_test, y_pred_rf, \"Random Forest Classifier\")"
      ]
    },
    {
      "cell_type": "code",
      "source": [
        "precision_rf_cv, recall_rf_cv, f1_rf_cv = cross_val_metrics(rf, X, y)"
      ],
      "metadata": {
        "colab": {
          "base_uri": "https://localhost:8080/"
        },
        "id": "4m9y-hOgFJI6",
        "outputId": "c4c1b90b-75b2-437b-c111-830894f2732e"
      },
      "execution_count": 71,
      "outputs": [
        {
          "output_type": "stream",
          "name": "stdout",
          "text": [
            "Cross-Validation Metrics for RandomForestClassifier:\n",
            "Precision (CV): 0.78\n",
            "Recall (CV): 0.74\n",
            "F1 Score (CV): 0.76\n"
          ]
        }
      ]
    },
    {
      "cell_type": "code",
      "source": [
        "def plot_evaluation_results(metrics, lr_metrics, rf_metrics, lr_cv_metrics, rf_cv_metrics):\n",
        "    \"\"\"\n",
        "    Plot the evaluation metrics for Logistic Regression and Random Forest models.\n",
        "\n",
        "    Parameters:\n",
        "    metrics (list): List of metric names.\n",
        "    lr_metrics (list): List of metric values for Logistic Regression.\n",
        "    rf_metrics (list): List of metric values for Random Forest.\n",
        "    lr_cv_metrics (list): List of cross-validation metric values for Logistic Regression.\n",
        "    rf_cv_metrics (list): List of cross-validation metric values for Random Forest.\n",
        "    \"\"\"\n",
        "    x = np.arange(len(metrics))  # the label locations\n",
        "    width = 0.2  # the width of the bars\n",
        "\n",
        "    fig, ax = plt.subplots(figsize=(10, 6))\n",
        "    rects1 = ax.bar(x - width, lr_metrics, width, label='Logistic Regression')\n",
        "    rects2 = ax.bar(x, rf_metrics, width, label='Random Forest')\n",
        "    rects3 = ax.bar(x + width, lr_cv_metrics, width, label='Logistic Regression CV')\n",
        "    rects4 = ax.bar(x + 2*width, rf_cv_metrics, width, label='Random Forest CV')\n",
        "\n",
        "    # Add some text for labels, title and custom x-axis tick labels, etc.\n",
        "    ax.set_xlabel('Metrics')\n",
        "    ax.set_ylabel('Scores')\n",
        "    ax.set_title('Model Evaluation Metrics')\n",
        "    ax.set_xticks(x + width / 2)\n",
        "    ax.set_xticklabels(metrics)\n",
        "    ax.legend()\n",
        "\n",
        "    # Attach a text label above each bar in *rects*, displaying its height.\n",
        "    def autolabel(rects):\n",
        "        for rect in rects:\n",
        "            height = rect.get_height()\n",
        "            ax.annotate('{}'.format(round(height, 2)),\n",
        "                        xy=(rect.get_x() + rect.get_width() / 2, height),\n",
        "                        xytext=(0, 3),  # 3 points vertical offset\n",
        "                        textcoords=\"offset points\",\n",
        "                        ha='center', va='bottom')\n",
        "\n",
        "    autolabel(rects1)\n",
        "    autolabel(rects2)\n",
        "    autolabel(rects3)\n",
        "    autolabel(rects4)\n",
        "\n",
        "    fig.tight_layout()\n",
        "\n",
        "    plt.show()"
      ],
      "metadata": {
        "id": "w8YQ6bNk--hu"
      },
      "execution_count": 83,
      "outputs": []
    },
    {
      "cell_type": "code",
      "source": [
        "metrics = ['Precision', 'Recall', 'F1 Score']\n",
        "lr_metrics = [precision_lr, recall_lr, f1_lr]\n",
        "rf_metrics = [precision_rf, recall_rf, f1_rf]\n",
        "lr_cv_metrics = [precision_lr_cv, recall_lr_cv, f1_lr_cv]\n",
        "rf_cv_metrics = [precision_rf_cv, recall_rf_cv, f1_rf_cv]\n",
        "plot_evaluation_results(metrics, lr_metrics, rf_metrics, lr_cv_metrics, rf_cv_metrics)\n"
      ],
      "metadata": {
        "colab": {
          "base_uri": "https://localhost:8080/",
          "height": 607
        },
        "id": "wYGr3NsmLVYI",
        "outputId": "882f8aa8-0bce-4a5f-8de9-d31e24d63554"
      },
      "execution_count": 84,
      "outputs": [
        {
          "output_type": "display_data",
          "data": {
            "text/plain": [
              "<Figure size 1000x600 with 1 Axes>"
            ],
            "image/png": "[encoded data removed]"
          },
          "metadata": {}
        }
      ]
    },
    {
      "cell_type": "code",
      "source": [
        "# Logistic Regression with Grid Search\n",
        "lr = LogisticRegression(max_iter=1000)\n",
        "param_grid_lr = {\n",
        "    'C': [0.1, 1, 10, 100],\n",
        "    'penalty': ['l1', 'l2'],\n",
        "    'solver': ['liblinear']  # 'liblinear' supports both 'l1' and 'l2' penalties\n",
        "}\n",
        "grid_search_lr = GridSearchCV(lr, param_grid_lr, cv=5, scoring='f1_macro')\n",
        "grid_search_lr.fit(X_train, y_train)\n",
        "print(\"Best parameters for Logistic Regression:\", grid_search_lr.best_params_)\n"
      ],
      "metadata": {
        "colab": {
          "base_uri": "https://localhost:8080/"
        },
        "id": "QYEXrFOw--fZ",
        "outputId": "251f1435-a896-4d67-d5a6-7c9620544c06"
      },
      "execution_count": 86,
      "outputs": [
        {
          "output_type": "stream",
          "name": "stdout",
          "text": [
            "Best parameters for Logistic Regression: {'C': 1, 'penalty': 'l1', 'solver': 'liblinear'}\n"
          ]
        }
      ]
    },
    {
      "cell_type": "code",
      "source": [
        "best_lr = grid_search_lr.best_estimator_\n",
        "y_pred_lr = best_lr.predict(X_test)\n",
        "\n",
        "precision_lr, recall_lr, f1_lr = evaluate_model(y_test, y_pred_lr, \"Logistic Regression\")"
      ],
      "metadata": {
        "colab": {
          "base_uri": "https://localhost:8080/"
        },
        "id": "OwwusF7K--cx",
        "outputId": "3e123b36-3ac5-4bfd-d52a-e1a373f73506"
      },
      "execution_count": 87,
      "outputs": [
        {
          "output_type": "stream",
          "name": "stdout",
          "text": [
            "Logistic Regression Evaluation:\n",
            "Precision: 0.82\n",
            "Recall: 0.78\n",
            "F1 Score: 0.80\n"
          ]
        }
      ]
    },
    {
      "cell_type": "code",
      "source": [
        "precision_lr_cv, recall_lr_cv, f1_lr_cv = cross_val_metrics(best_lr, X, y)"
      ],
      "metadata": {
        "colab": {
          "base_uri": "https://localhost:8080/"
        },
        "id": "AjXgFGB6--Z7",
        "outputId": "fceaceaa-645a-41d2-ce15-e8a76351b92a"
      },
      "execution_count": 88,
      "outputs": [
        {
          "output_type": "stream",
          "name": "stdout",
          "text": [
            "Cross-Validation Metrics for LogisticRegression:\n",
            "Precision (CV): 0.83\n",
            "Recall (CV): 0.78\n",
            "F1 Score (CV): 0.80\n"
          ]
        }
      ]
    },
    {
      "cell_type": "code",
      "source": [
        "# Random Forest Classifier with Grid Search\n",
        "rf = RandomForestClassifier(random_state=42)\n",
        "param_grid_rf = {\n",
        "    'n_estimators': [50, 100, 200],\n",
        "    'max_depth': [None, 10, 20, 30],\n",
        "    'min_samples_split': [2, 5, 10]\n",
        "}\n",
        "grid_search_rf = GridSearchCV(rf, param_grid_rf, cv=5, scoring='f1_macro')\n",
        "grid_search_rf.fit(X_train, y_train)\n",
        "print(\"Best parameters for Random Forest:\", grid_search_rf.best_params_)\n"
      ],
      "metadata": {
        "colab": {
          "base_uri": "https://localhost:8080/"
        },
        "id": "ZmWDBjaZ--Xb",
        "outputId": "48ea812c-e528-4586-88d6-84b50919d879"
      },
      "execution_count": 89,
      "outputs": [
        {
          "output_type": "stream",
          "name": "stdout",
          "text": [
            "Best parameters for Random Forest: {'max_depth': None, 'min_samples_split': 10, 'n_estimators': 100}\n"
          ]
        }
      ]
    },
    {
      "cell_type": "code",
      "source": [
        "best_rf = grid_search_rf.best_estimator_\n",
        "y_pred_rf = best_rf.predict(X_test)\n",
        "\n",
        "precision_rf, recall_rf, f1_rf = evaluate_classification_model(y_test, y_pred_rf, \"Random Forest Classifier\")"
      ],
      "metadata": {
        "colab": {
          "base_uri": "https://localhost:8080/"
        },
        "id": "LhU1bbfp--U_",
        "outputId": "e19ab94f-10ad-4b88-8ffd-25f42a7d5fa1"
      },
      "execution_count": 90,
      "outputs": [
        {
          "output_type": "stream",
          "name": "stdout",
          "text": [
            "Random Forest Classifier Evaluation:\n",
            "Precision: 0.82\n",
            "Recall: 0.78\n",
            "F1 Score: 0.80\n"
          ]
        }
      ]
    },
    {
      "cell_type": "code",
      "source": [
        "precision_rf_cv, recall_rf_cv, f1_rf_cv = cross_val_classification_metrics(best_rf, X, y)"
      ],
      "metadata": {
        "colab": {
          "base_uri": "https://localhost:8080/"
        },
        "id": "tfm6LuLA--SW",
        "outputId": "778fc384-d9e7-45df-8ed9-ad514adb0695"
      },
      "execution_count": 91,
      "outputs": [
        {
          "output_type": "stream",
          "name": "stdout",
          "text": [
            "Cross-Validation Metrics for RandomForestClassifier:\n",
            "Precision (CV): 0.78\n",
            "Recall (CV): 0.73\n",
            "F1 Score (CV): 0.75\n"
          ]
        }
      ]
    },
    {
      "cell_type": "code",
      "source": [
        "metrics = ['Precision', 'Recall', 'F1 Score']\n",
        "lr_metrics = [precision_lr, recall_lr, f1_lr]\n",
        "rf_metrics = [precision_rf, recall_rf, f1_rf]\n",
        "lr_cv_metrics = [precision_lr_cv, recall_lr_cv, f1_lr_cv]\n",
        "rf_cv_metrics = [precision_rf_cv, recall_rf_cv, f1_rf_cv]\n",
        "plot_evaluation_results(metrics, lr_metrics, rf_metrics, lr_cv_metrics, rf_cv_metrics)"
      ],
      "metadata": {
        "colab": {
          "base_uri": "https://localhost:8080/",
          "height": 607
        },
        "id": "HM3swj_---P4",
        "outputId": "ef6240c7-de8b-431d-a796-2aa106ea98e7"
      },
      "execution_count": 92,
      "outputs": [
        {
          "output_type": "display_data",
          "data": {
            "text/plain": [
              "<Figure size 1000x600 with 1 Axes>"
            ],
            "image/png": "[encoded data removed]"
          },
          "metadata": {}
        }
      ]
    },
    {
      "cell_type": "code",
      "source": [],
      "metadata": {
        "id": "l8d1hyvc--NL"
      },
      "execution_count": null,
      "outputs": []
    },
    {
      "cell_type": "code",
      "source": [],
      "metadata": {
        "id": "6w54xMkk--Kg"
      },
      "execution_count": null,
      "outputs": []
    },
    {
      "cell_type": "code",
      "source": [],
      "metadata": {
        "id": "_q39vv3m-95X"
      },
      "execution_count": null,
      "outputs": []
    }
  ],
  "metadata": {
    "colab": {
      "provenance": [],
      "authorship_tag": "ABX9TyM9Gd1x2WnbQCBGVllkqCfe",
      "include_colab_link": true
    },
    "kernelspec": {
      "display_name": "Python 3",
      "name": "python3"
    },
    "language_info": {
      "name": "python"
    }
  },
  "nbformat": 4,
  "nbformat_minor": 0
}