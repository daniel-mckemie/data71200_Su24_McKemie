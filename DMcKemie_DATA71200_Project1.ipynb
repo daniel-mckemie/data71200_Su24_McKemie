{
  "nbformat": 4,
  "nbformat_minor": 0,
  "metadata": {
    "colab": {
      "provenance": [],
      "authorship_tag": "ABX9TyN4jefzwb7nuULXfBv8TjgE",
      "include_colab_link": true
    },
    "kernelspec": {
      "name": "python3",
      "display_name": "Python 3"
    },
    "language_info": {
      "name": "python"
    }
  },
  "cells": [
    {
      "cell_type": "markdown",
      "metadata": {
        "id": "view-in-github",
        "colab_type": "text"
      },
      "source": [
        "<a href=\"https://colab.research.google.com/github/daniel-mckemie/data71200_Su24_McKemie/blob/main/DMcKemie_DATA71200_Project1.ipynb\" target=\"_parent\"><img src=\"https://colab.research.google.com/assets/colab-badge.svg\" alt=\"Open In Colab\"/></a>"
      ]
    },
    {
      "cell_type": "code",
      "source": [
        "import numpy as np\n",
        "import pandas as pd\n",
        "\n",
        "!pip install -U scikit-learn==1.4"
      ],
      "metadata": {
        "colab": {
          "base_uri": "https://localhost:8080/"
        },
        "id": "WxEBh5xJJGds",
        "outputId": "7b019338-86c9-45f4-edc9-0fb0c1fed93f"
      },
      "execution_count": 154,
      "outputs": [
        {
          "output_type": "stream",
          "name": "stdout",
          "text": [
            "Requirement already satisfied: scikit-learn==1.4 in /usr/local/lib/python3.10/dist-packages (1.4.0)\n",
            "Requirement already satisfied: numpy<2.0,>=1.19.5 in /usr/local/lib/python3.10/dist-packages (from scikit-learn==1.4) (1.25.2)\n",
            "Requirement already satisfied: scipy>=1.6.0 in /usr/local/lib/python3.10/dist-packages (from scikit-learn==1.4) (1.11.4)\n",
            "Requirement already satisfied: joblib>=1.2.0 in /usr/local/lib/python3.10/dist-packages (from scikit-learn==1.4) (1.4.2)\n",
            "Requirement already satisfied: threadpoolctl>=2.0.0 in /usr/local/lib/python3.10/dist-packages (from scikit-learn==1.4) (3.5.0)\n"
          ]
        }
      ]
    },
    {
      "cell_type": "code",
      "source": [
        "import os\n",
        "import tarfile\n",
        "from six.moves import urllib\n",
        "import io\n",
        "import pandas as pd\n",
        "\n",
        "GGITHUB_REPO_URL = \"https://raw.githubusercontent.com/daniel-mckemie/data71200_Su24_McKemie/main/\"\n",
        "TAR_FILE_NAME = \"tmb_mskcc_2018.tar\"\n",
        "DATA_FILE_NAME_PATIENT = \"tmb_mskcc_2018/data_clinical_patient.txt\"\n",
        "DATA_FILE_NAME_SAMPLE = \"tmb_mskcc_2018/data_clinical_sample.txt\"\n",
        "DATA_FILE_NAME_GENE_PANEL_MATRIX = \"tmb_mskcc_2018/data_gene_panel_matrix.txt\"\n",
        "DATA_FILE_NAME_SV = \"tmb_mskcc_2018/data_sv.txt\"\n",
        "DATA_FILE_NAME_MUTATIONS = \"tmb_mskcc_2018/data_mutations.txt\"\n",
        "\n",
        "WITHOUT_MUTATION_DATA = \"without_mutation_data.csv\"\n",
        "WITH_MUTATION_DATA = \"with_mutation_data.csv\"\n",
        "\n",
        "DATA_FILES = [\n",
        "    DATA_FILE_NAME_PATIENT,\n",
        "    DATA_FILE_NAME_SAMPLE,\n",
        "    DATA_FILE_NAME_GENE_PANEL_MATRIX,\n",
        "    DATA_FILE_NAME_SV,\n",
        "    DATA_FILE_NAME_MUTATIONS,\n",
        "\n",
        "]\n"
      ],
      "metadata": {
        "id": "2CI0m5OPcIqm"
      },
      "execution_count": 179,
      "outputs": []
    },
    {
      "cell_type": "code",
      "source": [
        "def load_data_from_github(github_url=GITHUB_REPO_URL, tar_file=TAR_FILE_NAME, data_files=DATA_FILES):\n",
        "    tar_url = github_url + tar_file\n",
        "\n",
        "    # Download the tar file to a local temporary file\n",
        "    temp_file, _ = urllib.request.urlretrieve(tar_url)\n",
        "\n",
        "    try:\n",
        "        dataframes = {}\n",
        "        # Open the tar file from the local temporary file\n",
        "        with tarfile.open(temp_file, mode=\"r\") as data_tar:\n",
        "            for data_file in data_files:\n",
        "                # Extract the specific txt file (now with correct path)\n",
        "                extracted_file = data_tar.extractfile(data_file)\n",
        "                if extracted_file:\n",
        "                    # Read the content of the extracted file\n",
        "                    file_content = extracted_file.read()\n",
        "                    # Decode the content (assuming it's encoded in 'utf-8')\n",
        "                    decoded_content = file_content.decode('utf-8')\n",
        "                    # Create a StringIO object from the decoded content\n",
        "                    string_io = io.StringIO(decoded_content)\n",
        "                    df = pd.read_csv(string_io, sep=None, engine='python', skiprows=0)\n",
        "                    if data_file in [DATA_FILE_NAME_PATIENT, DATA_FILE_NAME_SAMPLE]:\n",
        "                        df = pd.read_csv(io.StringIO(decoded_content), sep=None, engine='python', skiprows=4)\n",
        "                    dataframes[data_file] = df\n",
        "                else:\n",
        "                    print(f\"File '{data_file}' not found in the tar archive.\")\n",
        "                    return None\n",
        "        return dataframes\n",
        "    finally:\n",
        "        # Remove the temporary file to clean up\n",
        "        os.remove(temp_file)\n"
      ],
      "metadata": {
        "id": "Jw3_L4WOdT0M"
      },
      "execution_count": 180,
      "outputs": []
    },
    {
      "cell_type": "code",
      "source": [
        "# QUESTION: What are correlations between mutation data and mortality and cancer type (possibly)?\n",
        "\n",
        "# Load the data\n",
        "dataframes = load_data_from_github()\n",
        "\n",
        "# Check if dataframes were loaded\n",
        "if dataframes:\n",
        "    df_patient = dataframes.get(DATA_FILE_NAME_PATIENT)\n",
        "\n",
        "    df_sample = dataframes.get(DATA_FILE_NAME_SAMPLE)\n",
        "\n",
        "    df_gene_panel_matrix = dataframes.get(DATA_FILE_NAME_GENE_PANEL_MATRIX)\n",
        "\n",
        "    df_sv = dataframes.get(DATA_FILE_NAME_SV)\n",
        "    df_sv.columns = df_sv.columns.str.upper()\n",
        "\n",
        "    df_mutations = dataframes.get(DATA_FILE_NAME_MUTATIONS)\n",
        "    df_mutations.columns = df_mutations.columns.str.upper()\n",
        "\n",
        "\n",
        "\n",
        "\n",
        "    merged_df = pd.merge(df_patient, df_sample, on=\"PATIENT_ID\")\n",
        "\n",
        "    merged_df = pd.merge(merged_df, df_gene_panel_matrix, on=\"SAMPLE_ID\")\n",
        "\n",
        "    # Only keep patients who have gene/sample info\n",
        "    merged_df = pd.merge(merged_df, df_sv, on=\"SAMPLE_ID\", how=\"right\")\n",
        "\n",
        "    # A few dozen duplicates, arguably not needed.  Prune...\n",
        "    merged_df.drop_duplicates(subset=['PATIENT_ID'], inplace=True)\n",
        "\n",
        "    # Change variable name for clarity\n",
        "    without_mutation_df = merged_df\n",
        "\n",
        "    print('Success')\n",
        "\n",
        "\n",
        "else:\n",
        "    print(\"Cannot merge dataframes as one or both are missing.\")\n",
        "\n"
      ],
      "metadata": {
        "colab": {
          "base_uri": "https://localhost:8080/"
        },
        "id": "MUGUFORIcb6s",
        "outputId": "2854cbd3-4385-42c2-8916-6c9b943946e5"
      },
      "execution_count": 181,
      "outputs": [
        {
          "output_type": "stream",
          "name": "stdout",
          "text": [
            "Success\n"
          ]
        }
      ]
    },
    {
      "cell_type": "code",
      "source": [
        "# Save the merged DataFrame to a CSV file\n",
        "without_mutation_df.to_csv(WITHOUT_MUTATION_DATA, index=False)\n",
        "\n",
        "# Full data for perhaps later use\n",
        "with_mutation_df = pd.merge(merged_df, df_mutations, left_on=\"SAMPLE_ID\", right_on=\"TUMOR_SAMPLE_BARCODE\", how=\"left\")\n",
        "with_mutation_df.to_csv(WITH_MUTATION_DATA, index=False)"
      ],
      "metadata": {
        "id": "ECQVNR-bySFd"
      },
      "execution_count": 182,
      "outputs": []
    },
    {
      "cell_type": "code",
      "source": [
        "y = without_mutation_df['OS_STATUS']"
      ],
      "metadata": {
        "id": "3BzVMYC4yASr"
      },
      "execution_count": 183,
      "outputs": []
    },
    {
      "cell_type": "code",
      "source": [
        "# Drop useless columns\n",
        "X = without_mutation_df.drop(['SITE2_EFFECT_ON_FRAME'], axis=1)"
      ],
      "metadata": {
        "id": "ony2Cye8vWVf"
      },
      "execution_count": 188,
      "outputs": []
    }
  ]
}